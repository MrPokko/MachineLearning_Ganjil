{
  "nbformat": 4,
  "nbformat_minor": 0,
  "metadata": {
    "colab": {
      "provenance": [],
      "authorship_tag": "ABX9TyPNgwcpv9zFoXJIcMbd3JNA",
      "include_colab_link": true
    },
    "kernelspec": {
      "name": "python3",
      "display_name": "Python 3"
    },
    "language_info": {
      "name": "python"
    }
  },
  "cells": [
    {
      "cell_type": "markdown",
      "metadata": {
        "id": "view-in-github",
        "colab_type": "text"
      },
      "source": [
        "<a href=\"https://colab.research.google.com/github/MrPokko/MachineLearning_Ganjil/blob/main/Tugas4.ipynb\" target=\"_parent\"><img src=\"https://colab.research.google.com/assets/colab-badge.svg\" alt=\"Open In Colab\"/></a>"
      ]
    },
    {
      "cell_type": "code",
      "execution_count": 8,
      "metadata": {
        "id": "pHnL07PgOZcp"
      },
      "outputs": [],
      "source": [
        "import pandas as pd\n",
        "from sklearn.model_selection import train_test_split\n",
        "from sklearn.feature_extraction.text import CountVectorizer, TfidfVectorizer\n",
        "from sklearn.naive_bayes import MultinomialNB\n",
        "from sklearn.svm import SVC\n",
        "from sklearn.metrics import classification_report, accuracy_score"
      ]
    },
    {
      "cell_type": "code",
      "source": [
        "voice_data = pd.read_csv('voice.csv')\n",
        "spam_data = pd.read_csv('spam.csv', encoding='latin-1')"
      ],
      "metadata": {
        "id": "UZjh7hGbOm1a"
      },
      "execution_count": 9,
      "outputs": []
    },
    {
      "cell_type": "code",
      "source": [
        "X_voice = voice_data.drop('label', axis=1)\n",
        "y_voice = voice_data['label']\n",
        "\n",
        "X_train_voice, X_test_voice, y_train_voice, y_test_voice = train_test_split(X_voice, y_voice, test_size=0.2, random_state=42)"
      ],
      "metadata": {
        "id": "iMoIOIjQOy32"
      },
      "execution_count": 10,
      "outputs": []
    },
    {
      "cell_type": "code",
      "source": [
        "X_spam = spam_data['v2']\n",
        "y_spam = spam_data['v1']\n",
        "\n",
        "X_train_spam, X_test_spam, y_train_spam, y_test_spam = train_test_split(X_spam, y_spam, test_size=0.2, random_state=42)"
      ],
      "metadata": {
        "id": "6S6Cqf1MO2qx"
      },
      "execution_count": 11,
      "outputs": []
    },
    {
      "cell_type": "code",
      "source": [
        "X_spam = spam_data['v2']\n",
        "y_spam = spam_data['v1']\n",
        "\n",
        "X_train_spam, X_test_spam, y_train_spam, y_test_spam = train_test_split(X_spam, y_spam, test_size=0.2, random_state=42)"
      ],
      "metadata": {
        "id": "7aUlTcmgO9ho"
      },
      "execution_count": 12,
      "outputs": []
    },
    {
      "cell_type": "code",
      "source": [
        "svm_model = SVC(kernel='linear')\n",
        "svm_model.fit(X_train_voice, y_train_voice)\n",
        "\n",
        "y_pred_voice = svm_model.predict(X_test_voice)\n",
        "\n",
        "print(\"Evaluasi Model SVM untuk Data Suara:\")\n",
        "print(classification_report(y_test_voice, y_pred_voice))"
      ],
      "metadata": {
        "colab": {
          "base_uri": "https://localhost:8080/"
        },
        "id": "4aP6S7uKPCmC",
        "outputId": "c0253950-20d5-45b2-8ae9-75573c5cdbfc"
      },
      "execution_count": 13,
      "outputs": [
        {
          "output_type": "stream",
          "name": "stdout",
          "text": [
            "Evaluasi Model SVM untuk Data Suara:\n",
            "              precision    recall  f1-score   support\n",
            "\n",
            "      female       0.98      0.89      0.93       297\n",
            "        male       0.91      0.99      0.95       337\n",
            "\n",
            "    accuracy                           0.94       634\n",
            "   macro avg       0.95      0.94      0.94       634\n",
            "weighted avg       0.94      0.94      0.94       634\n",
            "\n"
          ]
        }
      ]
    },
    {
      "cell_type": "code",
      "source": [
        "count_vectorizer = CountVectorizer(stop_words='english')\n",
        "X_train_spam_count = count_vectorizer.fit_transform(X_train_spam)\n",
        "X_test_spam_count = count_vectorizer.transform(X_test_spam)\n",
        "\n",
        "nb_model_count = MultinomialNB()\n",
        "nb_model_count.fit(X_train_spam_count, y_train_spam)\n",
        "\n",
        "y_pred_spam_count = nb_model_count.predict(X_test_spam_count)\n",
        "\n",
        "print(\"Evaluasi Model Multinomial Naive Bayes dengan CountVectorizer:\")\n",
        "print(classification_report(y_test_spam, y_pred_spam_count))"
      ],
      "metadata": {
        "colab": {
          "base_uri": "https://localhost:8080/"
        },
        "id": "pHmF6KIJTuvk",
        "outputId": "e06304bd-c850-4e77-c805-bf047b28c756"
      },
      "execution_count": 14,
      "outputs": [
        {
          "output_type": "stream",
          "name": "stdout",
          "text": [
            "Evaluasi Model Multinomial Naive Bayes dengan CountVectorizer:\n",
            "              precision    recall  f1-score   support\n",
            "\n",
            "         ham       0.99      0.99      0.99       965\n",
            "        spam       0.96      0.92      0.94       150\n",
            "\n",
            "    accuracy                           0.98      1115\n",
            "   macro avg       0.97      0.96      0.96      1115\n",
            "weighted avg       0.98      0.98      0.98      1115\n",
            "\n"
          ]
        }
      ]
    },
    {
      "cell_type": "code",
      "source": [
        "tfidf_vectorizer = TfidfVectorizer(stop_words='english')\n",
        "X_train_spam_tfidf = tfidf_vectorizer.fit_transform(X_train_spam)\n",
        "X_test_spam_tfidf = tfidf_vectorizer.transform(X_test_spam)\n",
        "\n",
        "nb_model_tfidf = MultinomialNB()\n",
        "nb_model_tfidf.fit(X_train_spam_tfidf, y_train_spam)\n",
        "\n",
        "y_pred_spam_tfidf = nb_model_tfidf.predict(X_test_spam_tfidf)\n",
        "\n",
        "print(\"Evaluasi Model Multinomial Naive Bayes dengan TF-IDF:\")\n",
        "print(classification_report(y_test_spam, y_pred_spam_tfidf))"
      ],
      "metadata": {
        "colab": {
          "base_uri": "https://localhost:8080/"
        },
        "id": "B5exioJsTyo4",
        "outputId": "a25d75b7-3e5e-4dd7-a637-4e3bf0a75421"
      },
      "execution_count": 15,
      "outputs": [
        {
          "output_type": "stream",
          "name": "stdout",
          "text": [
            "Evaluasi Model Multinomial Naive Bayes dengan TF-IDF:\n",
            "              precision    recall  f1-score   support\n",
            "\n",
            "         ham       0.96      1.00      0.98       965\n",
            "        spam       1.00      0.75      0.86       150\n",
            "\n",
            "    accuracy                           0.97      1115\n",
            "   macro avg       0.98      0.88      0.92      1115\n",
            "weighted avg       0.97      0.97      0.96      1115\n",
            "\n"
          ]
        }
      ]
    }
  ]
}